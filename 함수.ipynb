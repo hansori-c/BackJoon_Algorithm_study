{
 "cells": [
  {
   "cell_type": "markdown",
   "id": "26ae8652",
   "metadata": {},
   "source": [
    "### 15596 정수N개의 합"
   ]
  },
  {
   "cell_type": "code",
   "execution_count": null,
   "id": "8d7aad58",
   "metadata": {},
   "outputs": [],
   "source": [
    "#정수n개의 합\n",
    "\n",
    "def solve(a):\n",
    "    return sum(a)\n"
   ]
  },
  {
   "cell_type": "markdown",
   "id": "fcffdcbb",
   "metadata": {},
   "source": [
    "### 4673 셀프 넘버"
   ]
  },
  {
   "cell_type": "code",
   "execution_count": 2,
   "id": "7c9d95f7",
   "metadata": {},
   "outputs": [
    {
     "name": "stdout",
     "output_type": "stream",
     "text": [
      "1\n",
      "3\n",
      "5\n",
      "7\n",
      "9\n",
      "20\n",
      "31\n",
      "42\n",
      "53\n",
      "64\n",
      "75\n",
      "86\n",
      "97\n"
     ]
    }
   ],
   "source": [
    "#셀프 넘버\n",
    "\n",
    "num_set = set(range(1,101))\n",
    "not_self_num = set()\n",
    "\n",
    "for i in range(1,10001):\n",
    "    for j in str(i): #숫자를 문자열로 변환하여 102이면, 1,0,2로 접근\n",
    "        i += int(j)\n",
    "        \n",
    "    not_self_num.add(i)\n",
    "    \n",
    "#셀프넘버만 있는 set = 전체 수 set - 셀프 넘버가 아닌 수set\n",
    "self_num = num_set - not_self_num\n",
    "\n",
    "for i in sorted(self_num):\n",
    "    print(i)"
   ]
  },
  {
   "cell_type": "markdown",
   "id": "0f058733",
   "metadata": {},
   "source": [
    "### 1065 한수"
   ]
  },
  {
   "cell_type": "code",
   "execution_count": 3,
   "id": "ba1d577c",
   "metadata": {},
   "outputs": [
    {
     "name": "stdout",
     "output_type": "stream",
     "text": [
      "210\n",
      "105\n"
     ]
    }
   ],
   "source": [
    "n = int(input())\n",
    "\n",
    "cnt =0\n",
    "if (n<100):\n",
    "    print(n)\n",
    "    \n",
    "else : \n",
    "    cnt = 99 \n",
    "    for num in range(100,n+1):\n",
    "        num =str(num)\n",
    "        diff = int(num[1])-int(num[0])\n",
    "        #print(gap)\n",
    "        \n",
    "        for i in range(1,len(num)-1):\n",
    "            if diff == int(num[i+1])-int(num[i]):\n",
    "                cnt += 1\n",
    "            else: \n",
    "                break\n",
    "                \n",
    "    print(cnt)"
   ]
  },
  {
   "cell_type": "markdown",
   "id": "1caf9767",
   "metadata": {},
   "source": [
    "## "
   ]
  }
 ],
 "metadata": {
  "kernelspec": {
   "display_name": "Python 3",
   "language": "python",
   "name": "python3"
  },
  "language_info": {
   "codemirror_mode": {
    "name": "ipython",
    "version": 3
   },
   "file_extension": ".py",
   "mimetype": "text/x-python",
   "name": "python",
   "nbconvert_exporter": "python",
   "pygments_lexer": "ipython3",
   "version": "3.7.10"
  }
 },
 "nbformat": 4,
 "nbformat_minor": 5
}
