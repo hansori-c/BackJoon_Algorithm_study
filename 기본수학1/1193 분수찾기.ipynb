{
 "cells": [
  {
   "cell_type": "markdown",
   "id": "30f67360",
   "metadata": {},
   "source": [
    "# 1193 분수찾기"
   ]
  },
  {
   "cell_type": "code",
   "execution_count": 14,
   "id": "17a490d1",
   "metadata": {},
   "outputs": [
    {
     "name": "stdout",
     "output_type": "stream",
     "text": [
      "4\n",
      "3/1\n"
     ]
    }
   ],
   "source": [
    "input_num = int(input())\n",
    "\n",
    "line = 0  # 사선 라인\n",
    "max_num = 0  # 입력된 숫자(input_num 변수)의 라인에서 가장 큰 숫자\n",
    "while input_num > max_num:\n",
    "    line += 1  \n",
    "    max_num += line  \n",
    "    \n",
    "gap = max_num - input_num \n",
    "if line % 2 == 0:  # 사선 라인이 짝수번째 일 때\n",
    "    top = line - gap  #분자\n",
    "    under = gap + 1  #분모\n",
    "else :  # 사선 라인이 홀수번째 일 때\n",
    "    top = gap + 1  #분자\n",
    "    under = line - gap  #분모\n",
    "    \n",
    "print(f'{top}/{under}')"
   ]
  },
  {
   "cell_type": "code",
   "execution_count": 20,
   "id": "bb227dda",
   "metadata": {},
   "outputs": [
    {
     "name": "stdout",
     "output_type": "stream",
     "text": [
      "5\n",
      "line 1\n",
      "max_num 1\n",
      "line 2\n",
      "max_num 3\n",
      "line 3\n",
      "max_num 6\n",
      "gap 1\n",
      "top 2\n",
      "under 2\n",
      "2/2\n"
     ]
    }
   ],
   "source": [
    "input_num = int(input())\n",
    "\n",
    "line = 0  # 사선 라인\n",
    "max_num = 0  # 입력된 숫자(input_num 변수)의 라인에서 가장 큰 숫자\n",
    "while input_num > max_num:\n",
    "    line += 1  \n",
    "    print('line',line)\n",
    "    max_num += line  \n",
    "    print('max_num',max_num)\n",
    "    \n",
    "gap = max_num - input_num \n",
    "print('gap',gap)\n",
    "if line % 2 == 0:  # 사선 라인이 짝수번째 일 때\n",
    "    top = line - gap  #분자\n",
    "    print('top',top)\n",
    "    under = gap + 1  #분모\n",
    "    print('under',under)\n",
    "else :  # 사선 라인이 홀수번째 일 때\n",
    "    top = gap + 1  #분자\n",
    "    print('top',top)\n",
    "    under = line - gap  #분모\n",
    "    print('under',under)\n",
    "    \n",
    "print(f'{top}/{under}')"
   ]
  },
  {
   "attachments": {
    "image.png": {
     "image/png": "[encoded data removed]"
    }
   },
   "cell_type": "markdown",
   "id": "39162e07",
   "metadata": {},
   "source": [
    "![image.png](attachment:image.png)"
   ]
  }
 ],
 "metadata": {
  "kernelspec": {
   "display_name": "Python 3",
   "language": "python",
   "name": "python3"
  },
  "language_info": {
   "codemirror_mode": {
    "name": "ipython",
    "version": 3
   },
   "file_extension": ".py",
   "mimetype": "text/x-python",
   "name": "python",
   "nbconvert_exporter": "python",
   "pygments_lexer": "ipython3",
   "version": "3.7.10"
  },
  "toc": {
   "base_numbering": 1,
   "nav_menu": {},
   "number_sections": true,
   "sideBar": true,
   "skip_h1_title": false,
   "title_cell": "Table of Contents",
   "title_sidebar": "Contents",
   "toc_cell": false,
   "toc_position": {},
   "toc_section_display": true,
   "toc_window_display": false
  },
  "varInspector": {
   "cols": {
    "lenName": 16,
    "lenType": 16,
    "lenVar": 40
   },
   "kernels_config": {
    "python": {
     "delete_cmd_postfix": "",
     "delete_cmd_prefix": "del ",
     "library": "var_list.py",
     "varRefreshCmd": "print(var_dic_list())"
    },
    "r": {
     "delete_cmd_postfix": ") ",
     "delete_cmd_prefix": "rm(",
     "library": "var_list.r",
     "varRefreshCmd": "cat(var_dic_list()) "
    }
   },
   "types_to_exclude": [
    "module",
    "function",
    "builtin_function_or_method",
    "instance",
    "_Feature"
   ],
   "window_display": false
  }
 },
 "nbformat": 4,
 "nbformat_minor": 5
}
