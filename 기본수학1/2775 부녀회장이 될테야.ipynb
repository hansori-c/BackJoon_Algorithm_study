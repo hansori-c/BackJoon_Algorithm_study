{
 "cells": [
  {
   "cell_type": "markdown",
   "id": "b9d57586",
   "metadata": {},
   "source": [
    "# 2775 부녀회장이 될테야"
   ]
  },
  {
   "cell_type": "code",
   "execution_count": 10,
   "id": "d4ad221c",
   "metadata": {},
   "outputs": [
    {
     "name": "stdout",
     "output_type": "stream",
     "text": [
      "2\n",
      "1\n",
      "4\n",
      "10\n",
      "4\n",
      "5\n",
      "126\n"
     ]
    }
   ],
   "source": [
    "t = int(input())\n",
    "for i in range(t) :\n",
    "    floor = int(input()) #층\n",
    "    ho = int(input())    #호\n",
    "    f0 = [x for x in range(1,ho+1)] #0층 배열\n",
    "    #print(f0)\n",
    "    \n",
    "    for f in range(floor):\n",
    "        for h in range(1,ho):\n",
    "            f0[h] += f0[h-1] \n",
    "    print(f0[-1]) #가장 마지막 수 출력"
   ]
  },
  {
   "attachments": {
    "image.png": {
     "image/png": "[encoded data removed]"
    }
   },
   "cell_type": "markdown",
   "id": "f6029916",
   "metadata": {},
   "source": [
    "### 임의의 층과 호수를 입력받으면 해당 호실에 사는 사람의 수를 출력하는 문제이다.\n",
    "![image.png](attachment:image.png)"
   ]
  },
  {
   "cell_type": "markdown",
   "id": "9ef5be3b",
   "metadata": {},
   "source": [
    "* 입력받은 케이스 t만큼 for문을 반복하며 반복문 수행한다.\n",
    "* floor은 층, ho는 호수로 각각 입력받는다. \n",
    "*  0층의 배열을 만들어주기 위해 리스트를 생성한다.\n",
    "* 또 다시 하위의 for문을 통해 첫번째 for문은 입력받은 층 수 만큼 반복하고, \n",
    "* 두번째 for문은 입력받은 호 수 만큼 반복하게 한다.\n",
    "* 두번째 for문의 인덱스를 사용하여, 한층 아래 층 수 의 이전 호수의 사는 사람의 숫자를 더하는 코드를 작성한다.\n",
    "* print문을 통해 가장 마지막 수를 출력한다. "
   ]
  },
  {
   "cell_type": "code",
   "execution_count": null,
   "id": "20dfaa53",
   "metadata": {},
   "outputs": [],
   "source": []
  }
 ],
 "metadata": {
  "kernelspec": {
   "display_name": "Python 3",
   "language": "python",
   "name": "python3"
  },
  "language_info": {
   "codemirror_mode": {
    "name": "ipython",
    "version": 3
   },
   "file_extension": ".py",
   "mimetype": "text/x-python",
   "name": "python",
   "nbconvert_exporter": "python",
   "pygments_lexer": "ipython3",
   "version": "3.7.10"
  },
  "toc": {
   "base_numbering": 1,
   "nav_menu": {},
   "number_sections": true,
   "sideBar": true,
   "skip_h1_title": false,
   "title_cell": "Table of Contents",
   "title_sidebar": "Contents",
   "toc_cell": false,
   "toc_position": {},
   "toc_section_display": true,
   "toc_window_display": false
  },
  "varInspector": {
   "cols": {
    "lenName": 16,
    "lenType": 16,
    "lenVar": 40
   },
   "kernels_config": {
    "python": {
     "delete_cmd_postfix": "",
     "delete_cmd_prefix": "del ",
     "library": "var_list.py",
     "varRefreshCmd": "print(var_dic_list())"
    },
    "r": {
     "delete_cmd_postfix": ") ",
     "delete_cmd_prefix": "rm(",
     "library": "var_list.r",
     "varRefreshCmd": "cat(var_dic_list()) "
    }
   },
   "types_to_exclude": [
    "module",
    "function",
    "builtin_function_or_method",
    "instance",
    "_Feature"
   ],
   "window_display": false
  }
 },
 "nbformat": 4,
 "nbformat_minor": 5
}
