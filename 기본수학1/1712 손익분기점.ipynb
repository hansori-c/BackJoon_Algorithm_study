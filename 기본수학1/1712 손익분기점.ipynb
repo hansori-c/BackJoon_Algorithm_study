{
 "cells": [
  {
   "cell_type": "markdown",
   "id": "df799a0f",
   "metadata": {},
   "source": [
    "# 1712 손익분기점"
   ]
  },
  {
   "cell_type": "markdown",
   "id": "5ce4a73c",
   "metadata": {},
   "source": [
    "+ a: 고정비용 b: 가변비용 c: 수입"
   ]
  },
  {
   "cell_type": "code",
   "execution_count": 4,
   "id": "1a799f85",
   "metadata": {},
   "outputs": [
    {
     "name": "stdout",
     "output_type": "stream",
     "text": [
      "1000 70 170\n",
      "cost 1000\n",
      "cnt 1\n",
      "cost 1070\n",
      "cnt 2\n",
      "cost 1140\n",
      "cnt 3\n",
      "cost 1210\n",
      "cnt 4\n",
      "cost 1280\n",
      "cnt 5\n",
      "cost 1350\n",
      "cnt 6\n",
      "cost 1420\n",
      "cnt 7\n",
      "cost 1490\n",
      "cnt 8\n",
      "cost 1560\n",
      "cnt 9\n",
      "cost 1630\n",
      "cnt 10\n",
      "cost 1700\n",
      "cnt 11\n",
      "money 1870\n",
      "res_cnt 11\n"
     ]
    }
   ],
   "source": [
    "a,b,c = map(int,input().split(\" \"))\n",
    "cnt = 0\n",
    "while True: \n",
    "    money = cnt * c #수입 \n",
    "    cost = a + cnt * b #고정비용a + 가변비용b\n",
    "    if (money > cost):\n",
    "        print('money',money)\n",
    "        break\n",
    "    else : \n",
    "        cnt += 1 \n",
    "        print('cost',cost)\n",
    "        print('cnt',cnt)\n",
    "        \n",
    "print('res_cnt', cnt)\n",
    "        "
   ]
  },
  {
   "cell_type": "markdown",
   "id": "416aeaa5",
   "metadata": {},
   "source": [
    "##### => 반복문으로 수행 시, 시간초과 발생함"
   ]
  },
  {
   "cell_type": "code",
   "execution_count": 2,
   "id": "d74b3874",
   "metadata": {},
   "outputs": [
    {
     "name": "stdout",
     "output_type": "stream",
     "text": [
      "100 30 10\n",
      "-1\n"
     ]
    }
   ],
   "source": [
    "a,b,c = map(int,input().split())\n",
    "if c - b <= 0 : \n",
    "    print(-1) \n",
    "    \n",
    "else: \n",
    "    print(a//(c-b) + 1)\n",
    "\n"
   ]
  },
  {
   "cell_type": "markdown",
   "id": "9d0cf4c5",
   "metadata": {},
   "source": [
    "##### => 반복문으로 수행X / 맞는 풀이"
   ]
  }
 ],
 "metadata": {
  "kernelspec": {
   "display_name": "Python 3",
   "language": "python",
   "name": "python3"
  },
  "language_info": {
   "codemirror_mode": {
    "name": "ipython",
    "version": 3
   },
   "file_extension": ".py",
   "mimetype": "text/x-python",
   "name": "python",
   "nbconvert_exporter": "python",
   "pygments_lexer": "ipython3",
   "version": "3.7.10"
  },
  "toc": {
   "base_numbering": 1,
   "nav_menu": {},
   "number_sections": true,
   "sideBar": true,
   "skip_h1_title": false,
   "title_cell": "Table of Contents",
   "title_sidebar": "Contents",
   "toc_cell": false,
   "toc_position": {},
   "toc_section_display": true,
   "toc_window_display": false
  },
  "varInspector": {
   "cols": {
    "lenName": 16,
    "lenType": 16,
    "lenVar": 40
   },
   "kernels_config": {
    "python": {
     "delete_cmd_postfix": "",
     "delete_cmd_prefix": "del ",
     "library": "var_list.py",
     "varRefreshCmd": "print(var_dic_list())"
    },
    "r": {
     "delete_cmd_postfix": ") ",
     "delete_cmd_prefix": "rm(",
     "library": "var_list.r",
     "varRefreshCmd": "cat(var_dic_list()) "
    }
   },
   "types_to_exclude": [
    "module",
    "function",
    "builtin_function_or_method",
    "instance",
    "_Feature"
   ],
   "window_display": false
  }
 },
 "nbformat": 4,
 "nbformat_minor": 5
}
