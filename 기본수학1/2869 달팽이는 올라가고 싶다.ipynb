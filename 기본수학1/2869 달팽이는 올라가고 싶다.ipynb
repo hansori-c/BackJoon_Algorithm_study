{
 "cells": [
  {
   "cell_type": "markdown",
   "id": "6d95373c",
   "metadata": {},
   "source": [
    "# 2869 달팽이는 올라가고 싶다."
   ]
  },
  {
   "cell_type": "markdown",
   "id": "cc97ba4c",
   "metadata": {},
   "source": [
    "* a= 올라가는 길이. b=떨어지는 길이. v=나무높이"
   ]
  },
  {
   "cell_type": "code",
   "execution_count": 11,
   "id": "54b40aa7",
   "metadata": {},
   "outputs": [
    {
     "name": "stdout",
     "output_type": "stream",
     "text": [
      "2 1 5\n",
      "4\n"
     ]
    }
   ],
   "source": [
    "import math\n",
    "a,b,v = map(int,input().split())\n",
    "\n",
    "\n",
    "day = math.ceil((v-b) / (a-b)) \n",
    "print(day)"
   ]
  },
  {
   "cell_type": "markdown",
   "id": "7f13d136",
   "metadata": {},
   "source": [
    "- 달팽이가 정상에 도달하면 미끄러지지 않으므로, 분자에 v-b 수행\n",
    "- *ceil(x):  인자로 들어온 x의 올림 값을 출력함"
   ]
  }
 ],
 "metadata": {
  "kernelspec": {
   "display_name": "Python 3",
   "language": "python",
   "name": "python3"
  },
  "language_info": {
   "codemirror_mode": {
    "name": "ipython",
    "version": 3
   },
   "file_extension": ".py",
   "mimetype": "text/x-python",
   "name": "python",
   "nbconvert_exporter": "python",
   "pygments_lexer": "ipython3",
   "version": "3.7.10"
  },
  "toc": {
   "base_numbering": 1,
   "nav_menu": {},
   "number_sections": true,
   "sideBar": true,
   "skip_h1_title": false,
   "title_cell": "Table of Contents",
   "title_sidebar": "Contents",
   "toc_cell": false,
   "toc_position": {},
   "toc_section_display": true,
   "toc_window_display": false
  },
  "varInspector": {
   "cols": {
    "lenName": 16,
    "lenType": 16,
    "lenVar": 40
   },
   "kernels_config": {
    "python": {
     "delete_cmd_postfix": "",
     "delete_cmd_prefix": "del ",
     "library": "var_list.py",
     "varRefreshCmd": "print(var_dic_list())"
    },
    "r": {
     "delete_cmd_postfix": ") ",
     "delete_cmd_prefix": "rm(",
     "library": "var_list.r",
     "varRefreshCmd": "cat(var_dic_list()) "
    }
   },
   "types_to_exclude": [
    "module",
    "function",
    "builtin_function_or_method",
    "instance",
    "_Feature"
   ],
   "window_display": false
  }
 },
 "nbformat": 4,
 "nbformat_minor": 5
}
