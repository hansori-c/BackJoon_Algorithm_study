{
 "cells": [
  {
   "cell_type": "markdown",
   "id": "4def40ff",
   "metadata": {},
   "source": [
    "# 2839 설탕 배달"
   ]
  },
  {
   "cell_type": "code",
   "execution_count": 42,
   "id": "4b5c592c",
   "metadata": {},
   "outputs": [
    {
     "name": "stdout",
     "output_type": "stream",
     "text": [
      "14\n",
      "4\n"
     ]
    }
   ],
   "source": [
    "n = int(input())\n",
    "\n",
    "cnt = 0\n",
    "while n>=0:\n",
    "    if n%5 == 0 : #5의 배수이면\n",
    "        cnt += n//5 #5로 나눈 정수가 cnt에 담김\n",
    "        print(cnt)\n",
    "        break\n",
    "    n = n-3\n",
    "    cnt += 1     #5의 배수가 될 때까지 n-3, cnt +1\n",
    "    \n",
    "else:\n",
    "    print(-1)\n",
    "          #가방 1개 추가\n",
    "        \n",
    "    "
   ]
  },
  {
   "cell_type": "markdown",
   "id": "42a826ed",
   "metadata": {},
   "source": [
    "* 이 문제는 설탕의 무게 N이 입력되면 3KG과 5KG으로 된 봉지에 나누어 담아서 가장 적은 수의 봉지 개수를 출력하는 문제이다. 설탕을 정확히 나눌 수 없는 경우에는 -1을 출력한다."
   ]
  },
  {
   "cell_type": "markdown",
   "id": "7acaeafa",
   "metadata": {},
   "source": [
    "* 1. while문을 사용하여 설탕의 무게가 자연수일 때 반복문을 수행하도록 한다.\n",
    "* 2. 5의 배수이면 5로 나눈 정수가 cnt(봉지)에 담긴다. \n",
    "* 5의 배수가 아닐 때는 설탕의 무게를 3씩 감소시키고, cnt(봉지)를 하나씩 추가한다.\n",
    "* 설탕의 봉지가 0보다 작아지면 while문을 탈출한다.\n",
    "* 설탕이 0이 될 때까지 5의 배수로 나누어 떨어지지 않을 경우, else문을 통해 -1을 출력한다."
   ]
  },
  {
   "cell_type": "code",
   "execution_count": null,
   "id": "8d5e17e0",
   "metadata": {},
   "outputs": [],
   "source": []
  }
 ],
 "metadata": {
  "kernelspec": {
   "display_name": "Python 3",
   "language": "python",
   "name": "python3"
  },
  "language_info": {
   "codemirror_mode": {
    "name": "ipython",
    "version": 3
   },
   "file_extension": ".py",
   "mimetype": "text/x-python",
   "name": "python",
   "nbconvert_exporter": "python",
   "pygments_lexer": "ipython3",
   "version": "3.7.10"
  },
  "toc": {
   "base_numbering": 1,
   "nav_menu": {},
   "number_sections": true,
   "sideBar": true,
   "skip_h1_title": false,
   "title_cell": "Table of Contents",
   "title_sidebar": "Contents",
   "toc_cell": false,
   "toc_position": {},
   "toc_section_display": true,
   "toc_window_display": false
  },
  "varInspector": {
   "cols": {
    "lenName": 16,
    "lenType": 16,
    "lenVar": 40
   },
   "kernels_config": {
    "python": {
     "delete_cmd_postfix": "",
     "delete_cmd_prefix": "del ",
     "library": "var_list.py",
     "varRefreshCmd": "print(var_dic_list())"
    },
    "r": {
     "delete_cmd_postfix": ") ",
     "delete_cmd_prefix": "rm(",
     "library": "var_list.r",
     "varRefreshCmd": "cat(var_dic_list()) "
    }
   },
   "types_to_exclude": [
    "module",
    "function",
    "builtin_function_or_method",
    "instance",
    "_Feature"
   ],
   "window_display": false
  }
 },
 "nbformat": 4,
 "nbformat_minor": 5
}
