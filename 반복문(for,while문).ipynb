{
 "cells": [
  {
   "cell_type": "markdown",
   "id": "54c4cbfc",
   "metadata": {},
   "source": [
    "### 2739 구구단"
   ]
  },
  {
   "cell_type": "code",
   "execution_count": 16,
   "id": "32a5c126",
   "metadata": {},
   "outputs": [
    {
     "name": "stdout",
     "output_type": "stream",
     "text": [
      "10\n"
     ]
    }
   ],
   "source": [
    "#구구단\n",
    "N=int(input())\n",
    "\n",
    "if (N>=1 and N<=9):\n",
    "    for i in range(1,10):\n",
    "        print(\"%d * %d = %d\" %(N, i, N*i))\n",
    "    "
   ]
  },
  {
   "cell_type": "markdown",
   "id": "416e8dee",
   "metadata": {},
   "source": [
    "### 10950 A+B-3"
   ]
  },
  {
   "cell_type": "code",
   "execution_count": 4,
   "id": "e25285af",
   "metadata": {},
   "outputs": [
    {
     "name": "stdout",
     "output_type": "stream",
     "text": [
      "2\n",
      "1 2\n",
      "3\n",
      "1 3\n",
      "4\n"
     ]
    }
   ],
   "source": [
    "T=int(input())\n",
    "\n",
    "for i in range(T):\n",
    "    A,B=map(int,input().split(\" \"))\n",
    "    print(A+B)\n"
   ]
  },
  {
   "cell_type": "markdown",
   "id": "207a951f",
   "metadata": {},
   "source": [
    "### 8393 합"
   ]
  },
  {
   "cell_type": "code",
   "execution_count": 18,
   "id": "1671c813",
   "metadata": {},
   "outputs": [
    {
     "name": "stdout",
     "output_type": "stream",
     "text": [
      "3\n",
      "6\n"
     ]
    }
   ],
   "source": [
    "#합\n",
    "N=int(input())\n",
    "\n",
    "sum=0\n",
    "for i in range(1,N+1):\n",
    "    sum=sum+i\n",
    "    \n",
    "print(sum)"
   ]
  },
  {
   "cell_type": "markdown",
   "id": "bff2506e",
   "metadata": {},
   "source": [
    "### 15552 빠른 A+B"
   ]
  },
  {
   "cell_type": "code",
   "execution_count": 26,
   "id": "1c62d830",
   "metadata": {},
   "outputs": [],
   "source": [
    "#빠른 A+B\n",
    "import sys\n",
    "T = int(input())\n",
    "for i in range(T) :\n",
    "    a, b = map(int, sys.stdin.readline().split())\n",
    "    print(a + b)"
   ]
  },
  {
   "cell_type": "markdown",
   "id": "6512dd64",
   "metadata": {},
   "source": [
    "### 2741 N찍기"
   ]
  },
  {
   "cell_type": "code",
   "execution_count": 33,
   "id": "1e41aea5",
   "metadata": {},
   "outputs": [
    {
     "name": "stdout",
     "output_type": "stream",
     "text": [
      "5\n",
      "1\n",
      "2\n",
      "3\n",
      "4\n",
      "5\n"
     ]
    }
   ],
   "source": [
    "#N찍기\n",
    "T=int(input())\n",
    "sum=0\n",
    "for i in range(T):\n",
    "    sum+=1\n",
    "    print(sum)"
   ]
  },
  {
   "cell_type": "markdown",
   "id": "b7d2586e",
   "metadata": {},
   "source": [
    "### 2742 기찍N"
   ]
  },
  {
   "cell_type": "code",
   "execution_count": 38,
   "id": "0e27fb58",
   "metadata": {},
   "outputs": [
    {
     "name": "stdout",
     "output_type": "stream",
     "text": [
      "5\n",
      "5\n",
      "4\n",
      "3\n",
      "2\n",
      "1\n"
     ]
    }
   ],
   "source": [
    "#기찍N\n",
    "T=int(input())\n",
    "sum=0\n",
    "for i in range(T): \n",
    "    T-=1\n",
    "    print(T+1)"
   ]
  },
  {
   "cell_type": "markdown",
   "id": "f7bc94b1",
   "metadata": {},
   "source": [
    "### 11021 A+B-7"
   ]
  },
  {
   "cell_type": "code",
   "execution_count": 1,
   "id": "7ae7c120",
   "metadata": {},
   "outputs": [
    {
     "name": "stdout",
     "output_type": "stream",
     "text": [
      "5\n",
      "1 1\n",
      "Case #1: 2\n",
      "2 3\n",
      "Case #2: 5\n",
      "3 4\n",
      "Case #3: 7\n",
      "9 8\n",
      "Case #4: 17\n",
      "5 2\n",
      "Case #5: 7\n"
     ]
    }
   ],
   "source": [
    "#A+B - 7\n",
    "T=int(input())\n",
    "for i in range(T):\n",
    "    A,B=map(int,input().split(\" \"))\n",
    "    print(\"Case #%d:\" %(i+1), A+B)"
   ]
  },
  {
   "cell_type": "markdown",
   "id": "f1a92233",
   "metadata": {},
   "source": [
    "### 11022 A+B-8"
   ]
  },
  {
   "cell_type": "code",
   "execution_count": 1,
   "id": "d0fbe247",
   "metadata": {},
   "outputs": [
    {
     "name": "stdout",
     "output_type": "stream",
     "text": [
      "5\n",
      "1 1\n",
      "Case #1: 1 + 1 = 2\n",
      "2 3\n",
      "Case #2: 2 + 3 = 5\n",
      "4 5\n",
      "Case #3: 4 + 5 = 9\n",
      "5 6\n",
      "Case #4: 5 + 6 = 11\n",
      "7 8\n",
      "Case #5: 7 + 8 = 15\n"
     ]
    }
   ],
   "source": [
    "#A+B - 8\n",
    "T=int(input())\n",
    "for i in range(T):\n",
    "    A,B=map(int,input().split(\" \"))\n",
    "    print(\"Case #%d:\"%(i+1),A,'+',B,'=',A+B)"
   ]
  },
  {
   "cell_type": "markdown",
   "id": "e5685f31",
   "metadata": {},
   "source": [
    "### 2438 별 찍기 -1"
   ]
  },
  {
   "cell_type": "code",
   "execution_count": 9,
   "id": "e9d25ca1",
   "metadata": {},
   "outputs": [
    {
     "name": "stdout",
     "output_type": "stream",
     "text": [
      "5\n",
      "*\n",
      "**\n",
      "***\n",
      "****\n",
      "*****\n"
     ]
    }
   ],
   "source": [
    "#별찍기\n",
    "T=int(input())\n",
    "\n",
    "for i in range(T):\n",
    "    for j in range(T):\n",
    "        if i<j :\n",
    "            print('',end='')\n",
    "        else:\n",
    "            print('*',end='')\n",
    "    print('')\n"
   ]
  },
  {
   "cell_type": "markdown",
   "id": "28bb9c06",
   "metadata": {},
   "source": [
    "### 2439 별 찍기 -2"
   ]
  },
  {
   "cell_type": "code",
   "execution_count": 23,
   "id": "74e4b849",
   "metadata": {},
   "outputs": [
    {
     "name": "stdout",
     "output_type": "stream",
     "text": [
      "5\n",
      "    *\n",
      "   **\n",
      "  ***\n",
      " ****\n",
      "*****\n"
     ]
    }
   ],
   "source": [
    "#별찍기\n",
    "T=int(input())\n",
    "\n",
    "for i in range(1,T+1):\n",
    "    print(\" \"*(T-i)+\"*\"*i)"
   ]
  },
  {
   "cell_type": "markdown",
   "id": "0dc351f3",
   "metadata": {},
   "source": [
    "### 10871 X보다 작은수 "
   ]
  },
  {
   "cell_type": "code",
   "execution_count": 3,
   "id": "5b4aed9c",
   "metadata": {},
   "outputs": [
    {
     "name": "stdout",
     "output_type": "stream",
     "text": [
      "10 5\n",
      "1 2 3 4 5 6 7 8 9 10\n",
      "1 2 3 4 "
     ]
    }
   ],
   "source": [
    "#X보다 작은수\n",
    "N,X = map(int, input().split())\n",
    "A = list(map(int, input().split()))\n",
    "    \n",
    "for i in range(N):\n",
    "        if A[i]<X:\n",
    "            print(A[i],end=\" \")\n",
    "           \n",
    "        \n",
    "\n",
    "        \n",
    "\n"
   ]
  },
  {
   "cell_type": "markdown",
   "id": "88bd7509",
   "metadata": {},
   "source": [
    "### 10952 A+B-5"
   ]
  },
  {
   "cell_type": "code",
   "execution_count": 13,
   "id": "0f6c92fc",
   "metadata": {},
   "outputs": [
    {
     "name": "stdout",
     "output_type": "stream",
     "text": [
      "0 0\n"
     ]
    }
   ],
   "source": [
    "#A+B-5 \n",
    "while True:\n",
    "    A,B = map(int, input().split())\n",
    "    if A!=0 or B!=0 :\n",
    "        print(A+B)\n",
    "\n",
    "    if (A==0 and B==0) :\n",
    "        break\n"
   ]
  },
  {
   "cell_type": "markdown",
   "id": "6b005b4a",
   "metadata": {},
   "source": [
    "### 10951 A+B-4"
   ]
  },
  {
   "cell_type": "code",
   "execution_count": null,
   "id": "6d08b9b6",
   "metadata": {},
   "outputs": [],
   "source": [
    "while True:\n",
    "    try:\n",
    "        A,B = map(int,input().split())\n",
    "        print(A+B)\n",
    "    except:\n",
    "        break"
   ]
  },
  {
   "cell_type": "markdown",
   "id": "2e3fb3d1",
   "metadata": {},
   "source": [
    "### 1110 더하기 사이클"
   ]
  },
  {
   "cell_type": "code",
   "execution_count": 1,
   "id": "d2dff6e5",
   "metadata": {},
   "outputs": [
    {
     "name": "stdout",
     "output_type": "stream",
     "text": [
      "55\n",
      "3\n"
     ]
    }
   ],
   "source": [
    "#사이클\n",
    "n = int(input())\n",
    "count = 1\n",
    "a = n\n",
    "if a >= 10:\n",
    "    a = ((a//10) + (a%10)) % 10 + ((a%10)*10)\n",
    "else:\n",
    "    a = a*10 + a\n",
    "while True:\n",
    "    if a == n:\n",
    "        break\n",
    "    elif a >= 10:\n",
    "        a = ((a//10) + (a%10)) % 10 + ((a%10)*10)\n",
    "    else:\n",
    "        a = a*10 + a\n",
    "    count += 1\n",
    "print(count)"
   ]
  },
  {
   "cell_type": "code",
   "execution_count": null,
   "id": "30616238",
   "metadata": {},
   "outputs": [],
   "source": []
  }
 ],
 "metadata": {
  "kernelspec": {
   "display_name": "Python 3",
   "language": "python",
   "name": "python3"
  },
  "language_info": {
   "codemirror_mode": {
    "name": "ipython",
    "version": 3
   },
   "file_extension": ".py",
   "mimetype": "text/x-python",
   "name": "python",
   "nbconvert_exporter": "python",
   "pygments_lexer": "ipython3",
   "version": "3.7.10"
  }
 },
 "nbformat": 4,
 "nbformat_minor": 5
}
