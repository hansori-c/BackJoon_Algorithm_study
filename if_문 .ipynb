{
 "cells": [
  {
   "cell_type": "markdown",
   "id": "d084d20c",
   "metadata": {},
   "source": [
    "### 1330 두 수 비교하기"
   ]
  },
  {
   "cell_type": "code",
   "execution_count": 2,
   "id": "83f1c517",
   "metadata": {},
   "outputs": [
    {
     "name": "stdout",
     "output_type": "stream",
     "text": [
      "2 4\n",
      "<\n"
     ]
    }
   ],
   "source": [
    "a,b=map(int,input().split(\" \"))\n",
    "if (a>b):\n",
    "    print(\">\")\n",
    "elif (a<b):\n",
    "    print(\"<\")\n",
    "else: \n",
    "    print('==')\n",
    "    \n",
    "    "
   ]
  },
  {
   "cell_type": "markdown",
   "id": "e6609075",
   "metadata": {},
   "source": [
    "### 9498 시험 성적"
   ]
  },
  {
   "cell_type": "code",
   "execution_count": 3,
   "id": "5330f68f",
   "metadata": {},
   "outputs": [
    {
     "name": "stdout",
     "output_type": "stream",
     "text": [
      "80\n",
      "B\n"
     ]
    }
   ],
   "source": [
    "a=int(input())\n",
    "\n",
    "if a>=90 and a<=100 :\n",
    "    print('A')\n",
    "elif (a>=80 and a<=89):\n",
    "    print('B')\n",
    "    \n",
    "elif (a>=70 and a<=79):\n",
    "    print('C')\n",
    "\n",
    "elif (a>=60 and a<=69):\n",
    "    print('D')\n",
    "\n",
    "else :\n",
    "    print('F')\n",
    "\n",
    "\n",
    "\n",
    "\n",
    "    "
   ]
  },
  {
   "cell_type": "markdown",
   "id": "b3b781ac",
   "metadata": {},
   "source": [
    "### 2753 윤년"
   ]
  },
  {
   "cell_type": "code",
   "execution_count": 15,
   "id": "fbddbbae",
   "metadata": {},
   "outputs": [
    {
     "name": "stdout",
     "output_type": "stream",
     "text": [
      "1999\n",
      "0\n"
     ]
    }
   ],
   "source": [
    "a=int(input())\n",
    "\n",
    "if (a>=1 and a<=4000) :\n",
    "    \n",
    "    if (a%4==0):\n",
    "        if (a%400==0 or a%100!=0):\n",
    "            print('1')\n",
    "        else :\n",
    "            print('0')\n",
    "    else: \n",
    "        print('0')\n",
    "\n",
    "else:\n",
    "    print('error')"
   ]
  },
  {
   "cell_type": "markdown",
   "id": "62780518",
   "metadata": {},
   "source": [
    "### 14681 사분면 고르기"
   ]
  },
  {
   "cell_type": "code",
   "execution_count": 4,
   "id": "5943d11a",
   "metadata": {},
   "outputs": [
    {
     "name": "stdout",
     "output_type": "stream",
     "text": [
      "2\n",
      "-2\n",
      "4\n"
     ]
    }
   ],
   "source": [
    "x=int(input())\n",
    "y=int(input())\n",
    "\n",
    "if (x>0) :\n",
    "    if (y>0) : \n",
    "        print('1')\n",
    "    elif (y<0) :\n",
    "        print('4')\n",
    "elif (x<0):\n",
    "    if (y>0) :\n",
    "        print('2')\n",
    "    elif (y<0) :\n",
    "        print('3')"
   ]
  },
  {
   "cell_type": "markdown",
   "id": "f59ac8c0",
   "metadata": {},
   "source": [
    "### 2884 알람시계"
   ]
  },
  {
   "cell_type": "code",
   "execution_count": 1,
   "id": "00dd9608",
   "metadata": {},
   "outputs": [
    {
     "name": "stdout",
     "output_type": "stream",
     "text": [
      "2 44\n",
      "1 59\n"
     ]
    }
   ],
   "source": [
    "#알람시계\n",
    "\n",
    "h,m=map(int,input().split(\" \"))\n",
    "\n",
    "if (h!=0):\n",
    "    if (m<=44):\n",
    "        print(h-1,m+15)\n",
    "        \n",
    "    elif (m>=45):\n",
    "        print(h,m-45)\n",
    "\n",
    "elif (h==0):\n",
    "    if (m<=44):\n",
    "        print(h+23,m+15)\n",
    "        \n",
    "    elif (m>=45):\n",
    "        print(h,m-45)"
   ]
  },
  {
   "cell_type": "code",
   "execution_count": null,
   "id": "c57aa707",
   "metadata": {},
   "outputs": [],
   "source": []
  }
 ],
 "metadata": {
  "kernelspec": {
   "display_name": "Python 3",
   "language": "python",
   "name": "python3"
  },
  "language_info": {
   "codemirror_mode": {
    "name": "ipython",
    "version": 3
   },
   "file_extension": ".py",
   "mimetype": "text/x-python",
   "name": "python",
   "nbconvert_exporter": "python",
   "pygments_lexer": "ipython3",
   "version": "3.7.10"
  }
 },
 "nbformat": 4,
 "nbformat_minor": 5
}
