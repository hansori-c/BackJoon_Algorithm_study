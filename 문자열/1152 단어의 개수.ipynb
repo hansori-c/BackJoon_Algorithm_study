{
 "cells": [
  {
   "cell_type": "code",
   "execution_count": 26,
   "id": "666c791a",
   "metadata": {},
   "outputs": [
    {
     "name": "stdout",
     "output_type": "stream",
     "text": [
      "  a\n",
      "1\n"
     ]
    }
   ],
   "source": [
    "word = input()\n",
    "word_split = word.split()\n",
    "print(len(word_split))"
   ]
  },
  {
   "cell_type": "code",
   "execution_count": null,
   "id": "df58b7c7",
   "metadata": {},
   "outputs": [],
   "source": []
  }
 ],
 "metadata": {
  "kernelspec": {
   "display_name": "Python 3",
   "language": "python",
   "name": "python3"
  }
 },
 "nbformat": 4,
 "nbformat_minor": 5
}
