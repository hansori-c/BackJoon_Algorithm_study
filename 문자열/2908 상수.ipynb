{
 "cells": [
  {
   "cell_type": "code",
   "execution_count": 33,
   "id": "9ea1dd5b",
   "metadata": {},
   "outputs": [
    {
     "name": "stdout",
     "output_type": "stream",
     "text": [
      "839 237\n",
      "938\n"
     ]
    }
   ],
   "source": [
    "a,b = map(str,input().split())\n",
    "\n",
    "a_list =[]\n",
    "for i in a :\n",
    "    a_list.append(i)\n",
    "a_list.reverse()\n",
    "#print(a_list)\n",
    "\n",
    "alist = [int(i) for i in a_list]\n",
    "\n",
    "a_res = alist[0]*100+alist[1]*10+alist[2]\n",
    "#print(a_res)\n",
    "\n",
    "b_list =[]\n",
    "for j in b :\n",
    "    b_list.append(j)\n",
    "b_list.reverse()\n",
    "#print(b_list)\n",
    "\n",
    "blist = [int(i) for i in b_list]\n",
    "\n",
    "b_res = blist[0]*100+blist[1]*10+blist[2]\n",
    "#print(b_res)\n",
    "\n",
    "if a_res > b_res :\n",
    "    print(a_res)\n",
    "elif b_res > a_res :\n",
    "    print(b_res)\n",
    "\n"
   ]
  },
  {
   "cell_type": "code",
   "execution_count": null,
   "id": "c68f31a8",
   "metadata": {},
   "outputs": [],
   "source": []
  }
 ],
 "metadata": {
  "kernelspec": {
   "display_name": "Python 3",
   "language": "python",
   "name": "python3"
  },
  "language_info": {
   "codemirror_mode": {
    "name": "ipython",
    "version": 3
   },
   "file_extension": ".py",
   "mimetype": "text/x-python",
   "name": "python",
   "nbconvert_exporter": "python",
   "pygments_lexer": "ipython3",
   "version": "3.7.10"
  }
 },
 "nbformat": 4,
 "nbformat_minor": 5
}
