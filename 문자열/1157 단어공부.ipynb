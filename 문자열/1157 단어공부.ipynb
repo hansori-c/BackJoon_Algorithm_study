{
 "cells": [
  {
   "cell_type": "code",
   "execution_count": 1,
   "id": "ed7c65c5",
   "metadata": {},
   "outputs": [
    {
     "name": "stdout",
     "output_type": "stream",
     "text": [
      "zZa \n",
      "Z\n"
     ]
    }
   ],
   "source": [
    "word = input().lower()\n",
    "word_list = list(set(word))\n",
    "\n",
    "cnt =[]\n",
    "for i in word_list :\n",
    "    count = word.count(i)\n",
    "    cnt.append(count)\n",
    "    \n",
    "if cnt.count(max(cnt)) >=2 : #가장 큰 최대값이 2개 이상일 경우, ? 출력\n",
    "    print(\"?\")\n",
    "    \n",
    "else : \n",
    "    print(word_list[(cnt.index(max(cnt)))].upper())"
   ]
  },
  {
   "cell_type": "code",
   "execution_count": null,
   "id": "198202ee",
   "metadata": {},
   "outputs": [],
   "source": []
  }
 ],
 "metadata": {
  "kernelspec": {
   "display_name": "Python 3",
   "language": "python",
   "name": "python3"
  },
  "language_info": {
   "codemirror_mode": {
    "name": "ipython",
    "version": 3
   },
   "file_extension": ".py",
   "mimetype": "text/x-python",
   "name": "python",
   "nbconvert_exporter": "python",
   "pygments_lexer": "ipython3",
   "version": "3.7.10"
  }
 },
 "nbformat": 4,
 "nbformat_minor": 5
}
