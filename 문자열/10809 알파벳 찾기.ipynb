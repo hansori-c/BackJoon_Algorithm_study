{
 "cells": [
  {
   "cell_type": "code",
   "execution_count": null,
   "id": "409395cd",
   "metadata": {},
   "outputs": [],
   "source": [
    "s = input()\n",
    "ascil = list(range(97,123))  # 아스키코드 숫자 범위\n",
    "\n",
    "for x in ascil :\n",
    "    print(s.find(chr(x)),end=' ') "
   ]
  }
 ],
 "metadata": {
  "kernelspec": {
   "display_name": "Python 3",
   "language": "python",
   "name": "python3"
  },
  "language_info": {
   "codemirror_mode": {
    "name": "ipython",
    "version": 3
   },
   "file_extension": ".py",
   "mimetype": "text/x-python",
   "name": "python",
   "nbconvert_exporter": "python",
   "pygments_lexer": "ipython3",
   "version": "3.7.10"
  }
 },
 "nbformat": 4,
 "nbformat_minor": 5
}
