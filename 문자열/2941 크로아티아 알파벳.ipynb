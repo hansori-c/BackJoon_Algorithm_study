{
 "cells": [
  {
   "cell_type": "code",
   "execution_count": 20,
   "id": "377be8b6",
   "metadata": {},
   "outputs": [
    {
     "name": "stdout",
     "output_type": "stream",
     "text": [
      "ljes=njak\n",
      "6\n"
     ]
    }
   ],
   "source": [
    "Q = ['c=', 'c-', 'dz=' , 'd-' , 'lj' , 'nj' , 's=' , 'z=']\n",
    "word = input()\n",
    "\n",
    "for i in Q :\n",
    "    word = word.replace(i,'#')\n",
    "print(len(word))\n"
   ]
  },
  {
   "cell_type": "code",
   "execution_count": null,
   "id": "ba2fc00a",
   "metadata": {},
   "outputs": [],
   "source": []
  },
  {
   "cell_type": "code",
   "execution_count": null,
   "id": "f7e27b19",
   "metadata": {},
   "outputs": [],
   "source": []
  }
 ],
 "metadata": {
  "kernelspec": {
   "display_name": "Python 3",
   "language": "python",
   "name": "python3"
  },
  "language_info": {
   "codemirror_mode": {
    "name": "ipython",
    "version": 3
   },
   "file_extension": ".py",
   "mimetype": "text/x-python",
   "name": "python",
   "nbconvert_exporter": "python",
   "pygments_lexer": "ipython3",
   "version": "3.7.10"
  }
 },
 "nbformat": 4,
 "nbformat_minor": 5
}
