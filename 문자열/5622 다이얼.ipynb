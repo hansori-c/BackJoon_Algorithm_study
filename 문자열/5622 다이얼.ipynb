{
 "cells": [
  {
   "cell_type": "code",
   "execution_count": 19,
   "id": "b3902cdf",
   "metadata": {},
   "outputs": [
    {
     "name": "stdout",
     "output_type": "stream",
     "text": [
      "WA\n",
      "13\n"
     ]
    }
   ],
   "source": [
    "word = input().lower()\n",
    "word_list =[]\n",
    "for i in word :\n",
    "    word_list.append(i)\n",
    "#print(word_list)\n",
    "\n",
    "cnt =0\n",
    "for j in word_list: \n",
    "    if j=='a' or j=='b' or j=='c':\n",
    "        cnt+=3\n",
    "    elif j=='d' or j=='e' or j=='f':\n",
    "        cnt +=4\n",
    "    elif  j=='g' or j=='h' or j=='i':\n",
    "        cnt +=5\n",
    "    elif j=='j' or j=='k' or j=='l':\n",
    "        cnt += 6\n",
    "    elif j=='m' or j=='n' or j=='o':\n",
    "        cnt += 7\n",
    "    elif j=='p' or j=='q' or j=='r' or j=='s':\n",
    "        cnt += 8\n",
    "    elif j=='t' or j=='u' or j=='v':\n",
    "        cnt +=9\n",
    "    elif j=='w' or j=='x' or j=='y' or j=='z':\n",
    "        cnt += 10\n",
    "print(cnt)\n",
    "   \n",
    "\n",
    "        "
   ]
  },
  {
   "cell_type": "code",
   "execution_count": null,
   "id": "3c3d03c5",
   "metadata": {},
   "outputs": [],
   "source": []
  }
 ],
 "metadata": {
  "kernelspec": {
   "display_name": "Python 3",
   "language": "python",
   "name": "python3"
  },
  "language_info": {
   "codemirror_mode": {
    "name": "ipython",
    "version": 3
   },
   "file_extension": ".py",
   "mimetype": "text/x-python",
   "name": "python",
   "nbconvert_exporter": "python",
   "pygments_lexer": "ipython3",
   "version": "3.7.10"
  }
 },
 "nbformat": 4,
 "nbformat_minor": 5
}
