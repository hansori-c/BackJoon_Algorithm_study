{
 "cells": [
  {
   "cell_type": "code",
   "execution_count": null,
   "id": "b7ad7160",
   "metadata": {},
   "outputs": [],
   "source": [
    "s = int(input())\n",
    "\n",
    "for i in range(s):\n",
    "    num,alpa = input().split(\" \")\n",
    "    alpa=list(alpa)\n",
    "    #print(num)\n",
    "    #print(alpa[0])\n",
    "    for j in alpa:\n",
    "        print(str(j)*int(num),end='')\n",
    "    print() "
   ]
  }
 ],
 "metadata": {
  "kernelspec": {
   "display_name": "Python 3",
   "language": "python",
   "name": "python3"
  },
  "language_info": {
   "codemirror_mode": {
    "name": "ipython",
    "version": 3
   },
   "file_extension": ".py",
   "mimetype": "text/x-python",
   "name": "python",
   "nbconvert_exporter": "python",
   "pygments_lexer": "ipython3",
   "version": "3.7.10"
  }
 },
 "nbformat": 4,
 "nbformat_minor": 5
}
