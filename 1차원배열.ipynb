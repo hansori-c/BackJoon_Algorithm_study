{
 "cells": [
  {
   "cell_type": "markdown",
   "id": "e1051fff",
   "metadata": {},
   "source": [
    "### 10818 최소,최대"
   ]
  },
  {
   "cell_type": "code",
   "execution_count": 9,
   "id": "03632ca8",
   "metadata": {},
   "outputs": [
    {
     "name": "stdout",
     "output_type": "stream",
     "text": [
      "5\n",
      "1 2 3 4 5\n",
      "5 1\n"
     ]
    }
   ],
   "source": [
    "n=int(input())\n",
    "A=[]\n",
    "for i in range(n):\n",
    "    A.append(0)\n",
    "    \n",
    "A=list(map(int,input().split()))\n",
    "print(min(A),max(A))"
   ]
  },
  {
   "cell_type": "markdown",
   "id": "884f8197",
   "metadata": {},
   "source": [
    "### 2562 최댓값"
   ]
  },
  {
   "cell_type": "code",
   "execution_count": 27,
   "id": "2a264eb8",
   "metadata": {},
   "outputs": [
    {
     "name": "stdout",
     "output_type": "stream",
     "text": [
      "3\n",
      "29\n",
      "38\n",
      "12\n",
      "57\n",
      "74\n",
      "40\n",
      "85\n",
      "61\n",
      "85\n",
      "8\n"
     ]
    }
   ],
   "source": [
    "list_a=[]\n",
    "for i in range(9):\n",
    "    n=int(input())\n",
    "    list_a.append(n)\n",
    "\n",
    "    \n",
    "max_a = max(list_a)\n",
    "print(max_a)\n",
    "print(list_a.index(max_a)+1)"
   ]
  },
  {
   "cell_type": "markdown",
   "id": "a87077c4",
   "metadata": {},
   "source": [
    "### 2577 숫자의 개수"
   ]
  },
  {
   "cell_type": "code",
   "execution_count": 46,
   "id": "8f9cea31",
   "metadata": {},
   "outputs": [
    {
     "name": "stdout",
     "output_type": "stream",
     "text": [
      "20\n",
      "30\n",
      "40\n",
      "3\n",
      "0\n",
      "1\n",
      "0\n",
      "1\n",
      "0\n",
      "0\n",
      "0\n",
      "0\n",
      "0\n"
     ]
    }
   ],
   "source": [
    "A = int(input())\n",
    "B = int(input())\n",
    "C = int(input())\n",
    "\n",
    "result = A * B * C\n",
    "r = str(result) #숫자를 list로 변환\n",
    "\n",
    "cnt=0\n",
    "\n",
    "for i in range(0,10):\n",
    "    for j in r:\n",
    "        if i==int(j):\n",
    "            cnt += 1\n",
    "            \n",
    "    print(cnt)\n",
    "    cnt=0\n",
    "    \n",
    "    "
   ]
  },
  {
   "cell_type": "markdown",
   "id": "20e25168",
   "metadata": {},
   "source": [
    "### 3052 나머지"
   ]
  },
  {
   "cell_type": "code",
   "execution_count": 33,
   "id": "db00525a",
   "metadata": {},
   "outputs": [
    {
     "name": "stdout",
     "output_type": "stream",
     "text": [
      "1\n",
      "2\n",
      "3\n",
      "4\n",
      "5\n",
      "6\n",
      "7\n",
      "8\n",
      "9\n",
      "10\n",
      "10\n"
     ]
    }
   ],
   "source": [
    "#열줄 입력받아 LIST로 저장하기\n",
    "N = list(input() for _ in range(10))\n",
    "#print(N)\n",
    "\n",
    "cnt = 0 \n",
    "rest = 0\n",
    "a = []\n",
    "\n",
    "for j in N :\n",
    "    rest = int(j) % 42\n",
    "    rest = str(rest)\n",
    "    a.append(rest)\n",
    "a =set(a)\n",
    "print(len(a))\n",
    "        \n",
    "        "
   ]
  },
  {
   "cell_type": "markdown",
   "id": "95d21569",
   "metadata": {},
   "source": [
    "### 1546 평균"
   ]
  },
  {
   "cell_type": "code",
   "execution_count": 14,
   "id": "c7882285",
   "metadata": {},
   "outputs": [
    {
     "name": "stdout",
     "output_type": "stream",
     "text": [
      "4\n",
      "1 100 100 100\n",
      "75.25\n"
     ]
    }
   ],
   "source": [
    "#평균\n",
    "N = int(input())\n",
    "a = list(map(int,input().split(\" \")))\n",
    "#print(a)\n",
    "M =  max(a)\n",
    "#print(maxa)\n",
    "lista = []\n",
    "for i in a:\n",
    "    new = i/M*100\n",
    "    lista.append(new)\n",
    "    \n",
    "#print(lista)\n",
    "avg = sum(lista) / len(lista)\n",
    "print(avg)"
   ]
  },
  {
   "cell_type": "markdown",
   "id": "c48ddbb1",
   "metadata": {},
   "source": [
    "### 8958 OX퀴즈"
   ]
  },
  {
   "cell_type": "code",
   "execution_count": 10,
   "id": "842f7baf",
   "metadata": {},
   "outputs": [
    {
     "name": "stdout",
     "output_type": "stream",
     "text": [
      "1\n",
      "x\n",
      "0\n"
     ]
    }
   ],
   "source": [
    "#OX퀴즈\n",
    "N = int(input())\n",
    "\n",
    "lista =[]\n",
    "for i in range(N): \n",
    "    a = input()\n",
    "    \n",
    "    for i in a:\n",
    "        lista.append(i)\n",
    "    #print(lista)\n",
    "    \n",
    "     \n",
    "    cnt = 0\n",
    "    C=0\n",
    "    for i in lista :\n",
    "        \n",
    "        if i == 'O':\n",
    "            cnt += 1 \n",
    "            C += cnt\n",
    "            \n",
    "        elif i == 'X':\n",
    "            cnt = 0 \n",
    "    lista =[]\n",
    "        \n",
    "            \n",
    "    print(C)\n",
    "    \n"
   ]
  }
 ],
 "metadata": {
  "kernelspec": {
   "display_name": "Python 3",
   "language": "python",
   "name": "python3"
  },
  "language_info": {
   "codemirror_mode": {
    "name": "ipython",
    "version": 3
   },
   "file_extension": ".py",
   "mimetype": "text/x-python",
   "name": "python",
   "nbconvert_exporter": "python",
   "pygments_lexer": "ipython3",
   "version": "3.7.10"
  }
 },
 "nbformat": 4,
 "nbformat_minor": 5
}
